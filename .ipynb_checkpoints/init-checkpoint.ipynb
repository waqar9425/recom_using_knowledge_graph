{
 "cells": [
  {
   "cell_type": "code",
   "execution_count": null,
   "id": "ed5ea3e1",
   "metadata": {},
   "outputs": [],
   "source": [
    "# conda create --name firstEnv\n",
    "# conda install -c anaconda ipykernel\n",
    "# python -m ipykernel install --user --name=firstEnv"
   ]
  },
  {
   "cell_type": "code",
   "execution_count": 1,
   "id": "0bb03ed3",
   "metadata": {},
   "outputs": [],
   "source": [
    "import os\n",
    "import sys\n",
    "\n",
    "os.environ['PYSPARK_PYTHON'] = sys.executable\n",
    "os.environ['PYSPARK_DRIVER_PYTHON'] = sys.executable"
   ]
  },
  {
   "cell_type": "code",
   "execution_count": 2,
   "id": "1f80e637",
   "metadata": {},
   "outputs": [],
   "source": [
    "import findspark\n",
    "findspark.init()\n",
    "import pyspark\n"
   ]
  },
  {
   "cell_type": "code",
   "execution_count": 3,
   "id": "2ce96fa6",
   "metadata": {},
   "outputs": [],
   "source": [
    "#Start session\n",
    "from pyspark.sql import SparkSession"
   ]
  },
  {
   "cell_type": "code",
   "execution_count": 3,
   "id": "0bd00e01",
   "metadata": {},
   "outputs": [],
   "source": [
    "# spark = SparkSession.builder.appName('Basics').getOrCreate()"
   ]
  },
  {
   "cell_type": "code",
   "execution_count": 4,
   "id": "38580019",
   "metadata": {},
   "outputs": [],
   "source": [
    "# df = spark.read.json(r\"C:\\Users\\LEGION\\Pyspark_udemy\\Python-and-Spark-for-Big-Data-master\\Python-and-Spark-for-Big-Data-master\\Spark_DataFrames\\people.json\")\n",
    "# df.show()"
   ]
  },
  {
   "cell_type": "code",
   "execution_count": null,
   "id": "29103cb5",
   "metadata": {},
   "outputs": [],
   "source": [
    "#requirement\n",
    "networkx\n",
    "pyspark\n",
    "findspark\n",
    "transformers\n",
    "scipy\n",
    "hf_transfer\n",
    "torch\n",
    "torchvision"
   ]
  },
  {
   "cell_type": "code",
   "execution_count": 4,
   "id": "3183fe87",
   "metadata": {},
   "outputs": [
    {
     "name": "stderr",
     "output_type": "stream",
     "text": [
      "C:\\Users\\LEGION\\anaconda3\\envs\\recomm_using_knowledge_graph\\Lib\\site-packages\\tqdm\\auto.py:21: TqdmWarning: IProgress not found. Please update jupyter and ipywidgets. See https://ipywidgets.readthedocs.io/en/stable/user_install.html\n",
      "  from .autonotebook import tqdm as notebook_tqdm\n"
     ]
    }
   ],
   "source": [
    "#import libraries\n",
    "import networkx as nx\n",
    "from pyspark.sql import SparkSession\n",
    "from transformers import pipeline\n",
    "from scipy.spatial.distance import cosine"
   ]
  },
  {
   "cell_type": "code",
   "execution_count": 5,
   "id": "754267b3",
   "metadata": {},
   "outputs": [],
   "source": [
    "#initialize spark session\n",
    "# Initialize PySpark\n",
    "# spark = SparkSession.builder \\\n",
    "#     .appName(\"RecommendationSystemPOC\") \\\n",
    "#     .config(\"spark.master\", \"local\") \\\n",
    "#     .getOrCreate()\n",
    "\n",
    "spark = SparkSession.builder.appName(\"RecommendationSystemPOC\").getOrCreate()"
   ]
  },
  {
   "cell_type": "code",
   "execution_count": 38,
   "id": "4773b98b",
   "metadata": {},
   "outputs": [],
   "source": [
    "#initialize open source embedding model\n",
    "# Hugging Face Model for embeddings\n",
    "embedding_model = pipeline(\"feature-extraction\", model=\"sentence-transformers/all-MiniLM-L6-v2\")\n"
   ]
  },
  {
   "cell_type": "code",
   "execution_count": 39,
   "id": "e16dcd57",
   "metadata": {},
   "outputs": [
    {
     "data": {
      "text/plain": [
       "<transformers.pipelines.feature_extraction.FeatureExtractionPipeline at 0x15efdae02f0>"
      ]
     },
     "execution_count": 39,
     "metadata": {},
     "output_type": "execute_result"
    }
   ],
   "source": [
    "embedding_model"
   ]
  },
  {
   "cell_type": "code",
   "execution_count": 35,
   "id": "83a59e07",
   "metadata": {},
   "outputs": [],
   "source": [
    "# Initialize NetworkX Graph\n",
    "G = nx.Graph()"
   ]
  },
  {
   "cell_type": "code",
   "execution_count": 6,
   "id": "96d46577",
   "metadata": {},
   "outputs": [],
   "source": [
    "#Load sample data\n",
    "# Sample User Data\n",
    "# users = [\n",
    "#     {\"id\": 1, \"name\": \"Alice\", \"skills\": [\"Python\", \"Data Science\"]},\n",
    "#     {\"id\": 2, \"name\": \"Bob\", \"skills\": [\"Java\", \"Software Engineering\"]},\n",
    "# ]\n",
    "\n",
    "# # Sample Job Data\n",
    "# jobs = [\n",
    "#     {\"id\": 1, \"title\": \"Data Scientist\", \"skills\": [\"Python\", \"Machine Learning\"]},\n",
    "#     {\"id\": 2, \"title\": \"Software Engineer\", \"skills\": [\"Java\", \"Spring\"]},\n",
    "# ]\n",
    "\n",
    "# # Convert to PySpark DataFrames\n",
    "# users_df = spark.createDataFrame(users)\n",
    "# jobs_df = spark.createDataFrame(jobs)"
   ]
  },
  {
   "cell_type": "code",
   "execution_count": 30,
   "id": "c286bc9b",
   "metadata": {},
   "outputs": [],
   "source": [
    "users_df = spark.read.csv('users.csv',header=True)"
   ]
  },
  {
   "cell_type": "code",
   "execution_count": 31,
   "id": "abea5ef0",
   "metadata": {},
   "outputs": [
    {
     "data": {
      "text/plain": [
       "DataFrame[id: string, name: string, skills: string]"
      ]
     },
     "execution_count": 31,
     "metadata": {},
     "output_type": "execute_result"
    }
   ],
   "source": [
    "users_df"
   ]
  },
  {
   "cell_type": "code",
   "execution_count": 32,
   "id": "30fcfe3d",
   "metadata": {},
   "outputs": [
    {
     "name": "stdout",
     "output_type": "stream",
     "text": [
      "+---+-----+--------------------+\n",
      "| id| name|              skills|\n",
      "+---+-----+--------------------+\n",
      "|  1|Alice| Python,Data Science|\n",
      "|  2|  Bob|Java,Software Eng...|\n",
      "+---+-----+--------------------+\n",
      "\n"
     ]
    }
   ],
   "source": [
    "users_df.show()"
   ]
  },
  {
   "cell_type": "code",
   "execution_count": 33,
   "id": "61f7ee55",
   "metadata": {},
   "outputs": [
    {
     "name": "stdout",
     "output_type": "stream",
     "text": [
      "+---+-----------------+--------------------+\n",
      "| id|            title|              skills|\n",
      "+---+-----------------+--------------------+\n",
      "|  1|   Data Scientist|Python,Machine Le...|\n",
      "|  2|Software Engineer|         Java,Spring|\n",
      "+---+-----------------+--------------------+\n",
      "\n"
     ]
    }
   ],
   "source": [
    "jobs_df = spark.read.csv('jobs.csv',header=True)\n",
    "jobs_df.show()"
   ]
  },
  {
   "cell_type": "code",
   "execution_count": 36,
   "id": "eeea3351",
   "metadata": {},
   "outputs": [],
   "source": [
    "# Add Users and Their Skills to the Graph\n",
    "for user in users:\n",
    "    G.add_node(user[\"name\"], type=\"user\")\n",
    "    for skill in user[\"skills\"]:\n",
    "        G.add_node(skill, type=\"skill\")\n",
    "        G.add_edge(user[\"name\"], skill, relationship=\"HAS_SKILL\")\n",
    "\n",
    "# Add Jobs and Their Required Skills to the Graph\n",
    "for job in jobs:\n",
    "    G.add_node(job[\"title\"], type=\"job\")\n",
    "    for skill in job[\"skills\"]:\n",
    "        G.add_node(skill, type=\"skill\")  # Avoid duplicates\n",
    "        G.add_edge(job[\"title\"], skill, relationship=\"REQUIRES_SKILL\")\n"
   ]
  },
  {
   "cell_type": "code",
   "execution_count": 51,
   "id": "5cbb0496",
   "metadata": {},
   "outputs": [
    {
     "data": {
      "image/png": "[encoded data removed]",
      "text/plain": [
       "<Figure size 640x480 with 1 Axes>"
      ]
     },
     "metadata": {},
     "output_type": "display_data"
    }
   ],
   "source": [
    "import matplotlib.pyplot as plt\n",
    "nx.draw(G, with_labels = True)"
   ]
  },
  {
   "cell_type": "code",
   "execution_count": 37,
   "id": "2afbdccf",
   "metadata": {},
   "outputs": [
    {
     "name": "stdout",
     "output_type": "stream",
     "text": [
      "Recommended Jobs for Alice: ['Data Scientist']\n"
     ]
    }
   ],
   "source": [
    "def query_recommendations(graph, user_name):\n",
    "    \"\"\"\n",
    "    Recommends jobs for a user by finding jobs connected to their skills.\n",
    "    \"\"\"\n",
    "    recommended_jobs = set()\n",
    "    for skill in graph.neighbors(user_name):\n",
    "        if graph.nodes[skill][\"type\"] == \"skill\":\n",
    "            for job in graph.neighbors(skill):\n",
    "                if graph.nodes[job][\"type\"] == \"job\":\n",
    "                    recommended_jobs.add(job)\n",
    "    return list(recommended_jobs)\n",
    "\n",
    "# Get Recommendations for Alice\n",
    "recommendations = query_recommendations(G, \"Alice\")\n",
    "print(\"Recommended Jobs for Alice:\", recommendations)\n"
   ]
  },
  {
   "cell_type": "code",
   "execution_count": null,
   "id": "d8537863",
   "metadata": {},
   "outputs": [],
   "source": []
  },
  {
   "cell_type": "code",
   "execution_count": 43,
   "id": "28e597a3",
   "metadata": {},
   "outputs": [],
   "source": [
    "# def rank_jobs(user_embedding, job_embeddings, job_titles):\n",
    "#     \"\"\"\n",
    "#     Rank jobs based on cosine similarity between user embedding and job embeddings.\n",
    "#     \"\"\"\n",
    "#     scores = [(job_titles[i], 1 - cosine(user_embedding, job_embeddings[i])) for i in range(len(job_embeddings))]\n",
    "#     return sorted(scores, key=lambda x: x[1], reverse=True)\n",
    "\n",
    "# # Rank Jobs for Alice\n",
    "# job_titles = [\"Data Scientist\", \"Software Engineer\"]\n",
    "# ranked_jobs = rank_jobs(user_embedding, job_embeddings, job_titles)\n",
    "# print(\"Ranked Jobs for Alice:\", ranked_jobs)\n"
   ]
  },
  {
   "cell_type": "code",
   "execution_count": null,
   "id": "f96a896d",
   "metadata": {},
   "outputs": [],
   "source": []
  },
  {
   "cell_type": "code",
   "execution_count": 46,
   "id": "a5b96e38",
   "metadata": {},
   "outputs": [
    {
     "name": "stdout",
     "output_type": "stream",
     "text": [
      "Ranked Jobs for Alice: [('Data Scientist', 0.7594199035203962), ('Software Engineer', 0.2747234167773499)]\n"
     ]
    }
   ],
   "source": [
    "from transformers import pipeline\n",
    "import numpy as np\n",
    "from scipy.spatial.distance import cosine\n",
    "\n",
    "# Initialize Hugging Face pipeline\n",
    "#embedding_model = pipeline(\"feature-extraction\", model=\"sentence-transformers/all-MiniLM-L6-v2\")\n",
    "\n",
    "# Generate Embeddings for User and Jobs\n",
    "user_description = \"Experienced in Python and Data Science\"\n",
    "job_descriptions = [\n",
    "    \"Looking for a data scientist with expertise in Python and Machine Learning.\",\n",
    "    \"Seeking a software engineer with Java and Spring experience.\"\n",
    "]\n",
    "\n",
    "# Extract embeddings\n",
    "user_embedding = np.mean(embedding_model(user_description)[0], axis=0)  # Convert to 1D array\n",
    "job_embeddings = [np.mean(embedding_model(desc)[0], axis=0) for desc in job_descriptions]  # Convert to 1D arrays\n",
    "\n",
    "# Job titles\n",
    "job_titles = [\"Data Scientist\", \"Software Engineer\"]\n",
    "\n",
    "# Ranking Function\n",
    "def rank_jobs(user_embedding, job_embeddings, job_titles):\n",
    "    \"\"\"\n",
    "    Rank jobs based on cosine similarity between user embedding and job embeddings.\n",
    "    \"\"\"\n",
    "    if len(job_embeddings) != len(job_titles):\n",
    "        raise ValueError(\"Mismatch between job embeddings and job titles count.\")\n",
    "\n",
    "    scores = []\n",
    "    for i, job_embedding in enumerate(job_embeddings):\n",
    "        # Calculate cosine similarity\n",
    "        similarity = 1 - cosine(user_embedding, job_embedding)\n",
    "        scores.append((job_titles[i], similarity))\n",
    "    \n",
    "    # Sort scores in descending order of similarity\n",
    "    return sorted(scores, key=lambda x: x[1], reverse=True)\n",
    "\n",
    "\n",
    "# Rank Jobs for Alice\n",
    "ranked_jobs = rank_jobs(user_embedding, job_embeddings, job_titles)\n",
    "print(\"Ranked Jobs for Alice:\", ranked_jobs)\n"
   ]
  },
  {
   "cell_type": "code",
   "execution_count": 48,
   "id": "fc9aa9b9",
   "metadata": {},
   "outputs": [],
   "source": []
  },
  {
   "cell_type": "code",
   "execution_count": null,
   "id": "4b914d8a",
   "metadata": {},
   "outputs": [],
   "source": [
    "\n"
   ]
  },
  {
   "cell_type": "code",
   "execution_count": null,
   "id": "660d12fd",
   "metadata": {},
   "outputs": [],
   "source": []
  }
 ],
 "metadata": {
  "kernelspec": {
   "display_name": "recomm_using_knowledge_graph",
   "language": "python",
   "name": "recomm_using_knowledge_graph"
  },
  "language_info": {
   "codemirror_mode": {
    "name": "ipython",
    "version": 3
   },
   "file_extension": ".py",
   "mimetype": "text/x-python",
   "name": "python",
   "nbconvert_exporter": "python",
   "pygments_lexer": "ipython3",
   "version": "3.12.7"
  }
 },
 "nbformat": 4,
 "nbformat_minor": 5
}
